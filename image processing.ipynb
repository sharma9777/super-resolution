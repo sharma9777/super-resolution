{
 "cells": [
  {
   "cell_type": "code",
   "execution_count": 1,
   "metadata": {},
   "outputs": [
    {
     "name": "stderr",
     "output_type": "stream",
     "text": [
      "Using TensorFlow backend.\n"
     ]
    },
    {
     "data": {
      "text/plain": [
       "Ellipsis"
      ]
     },
     "execution_count": 1,
     "metadata": {},
     "output_type": "execute_result"
    }
   ],
   "source": [
    "from keras.models import Sequential\n",
    "from keras.layers import Dense\n",
    "from keras.layers import Dropout\n",
    "from keras.layers import Flatten\n",
    "from keras.layers.convolutional import Conv2D\n",
    "from keras.layers.convolutional import MaxPooling2D\n",
    "from keras.utils import np_utils\n",
    "...\n"
   ]
  },
  {
   "cell_type": "code",
   "execution_count": 4,
   "metadata": {},
   "outputs": [],
   "source": [
    "import numpy as np\n",
    "import pandas as pd\n",
    "from matplotlib import pyplot as plt\n",
    "import matplotlib.colors as colors\n",
    "import seaborn as sns\n",
    "import itertools\n",
    "from scipy.stats import norm\n",
    "import scipy.stats\n",
    "%matplotlib inline\n",
    "sns.set()"
   ]
  },
  {
   "cell_type": "code",
   "execution_count": 5,
   "metadata": {},
   "outputs": [
    {
     "data": {
      "text/plain": [
       "(59999, 196)"
      ]
     },
     "execution_count": 5,
     "metadata": {},
     "output_type": "execute_result"
    }
   ],
   "source": [
    "excel_file = 'train_x.xlsx'\n",
    "features = pd.read_excel(excel_file)\n",
    "(features.head())\n",
    "features.shape"
   ]
  },
  {
   "cell_type": "code",
   "execution_count": 6,
   "metadata": {},
   "outputs": [
    {
     "data": {
      "text/plain": [
       "(59999, 784)"
      ]
     },
     "execution_count": 6,
     "metadata": {},
     "output_type": "execute_result"
    }
   ],
   "source": [
    "excel_file1 = 'train_y.xlsx'\n",
    "target = pd.read_excel(excel_file1)\n",
    "(target.head())\n",
    "target.shape"
   ]
  },
  {
   "cell_type": "code",
   "execution_count": 7,
   "metadata": {},
   "outputs": [
    {
     "data": {
      "text/plain": [
       "(9999, 196)"
      ]
     },
     "execution_count": 7,
     "metadata": {},
     "output_type": "execute_result"
    }
   ],
   "source": [
    "excel_file2 = 'test_x.xlsx'\n",
    "features1 = pd.read_excel(excel_file2)\n",
    "(features1.head())\n",
    "features1.shape"
   ]
  },
  {
   "cell_type": "code",
   "execution_count": 8,
   "metadata": {},
   "outputs": [
    {
     "data": {
      "text/plain": [
       "(9999, 784)"
      ]
     },
     "execution_count": 8,
     "metadata": {},
     "output_type": "execute_result"
    }
   ],
   "source": [
    "excel_file3 = 'test_y.xlsx'\n",
    "target1 = pd.read_excel(excel_file3) \n",
    "(target1.head()) \n",
    "target1.shape"
   ]
  },
  {
   "cell_type": "code",
   "execution_count": 9,
   "metadata": {},
   "outputs": [],
   "source": [
    "import matplotlib.image as mpimg"
   ]
  },
  {
   "cell_type": "code",
   "execution_count": 10,
   "metadata": {},
   "outputs": [
    {
     "data": {
      "text/plain": [
       "(59999, 196)"
      ]
     },
     "execution_count": 10,
     "metadata": {},
     "output_type": "execute_result"
    }
   ],
   "source": [
    "#X_train = features.values.reshape(features.shape[0], 14, 14, 1).astype('float32')\n",
    "#X_test = features1.values.reshape(features1.shape[0], 14, 14, 1).astype('float32')\n",
    "features.shape"
   ]
  },
  {
   "cell_type": "code",
   "execution_count": 11,
   "metadata": {},
   "outputs": [
    {
     "data": {
      "text/plain": [
       "(59999, 14, 14, 1)"
      ]
     },
     "execution_count": 11,
     "metadata": {},
     "output_type": "execute_result"
    }
   ],
   "source": [
    "X_train = features.values.reshape(features.shape[0], 14, 14, 1).astype('float32')\n",
    "X_train.shape\n"
   ]
  },
  {
   "cell_type": "code",
   "execution_count": 12,
   "metadata": {},
   "outputs": [
    {
     "data": {
      "text/plain": [
       "(59999, 14, 14)"
      ]
     },
     "execution_count": 12,
     "metadata": {},
     "output_type": "execute_result"
    }
   ],
   "source": [
    "b = X_train.squeeze()\n",
    "b.shape"
   ]
  },
  {
   "cell_type": "code",
   "execution_count": 13,
   "metadata": {},
   "outputs": [
    {
     "data": {
      "image/png": "[encoded data removed]",
      "text/plain": [
       "<Figure size 432x288 with 1 Axes>"
      ]
     },
     "metadata": {},
     "output_type": "display_data"
    }
   ],
   "source": [
    "first_image = b[0]\n",
    "plt.imshow(first_image, cmap = 'gray')\n",
    "plt.show()"
   ]
  },
  {
   "cell_type": "code",
   "execution_count": 14,
   "metadata": {},
   "outputs": [
    {
     "data": {
      "image/png": "[encoded data removed]",
      "text/plain": [
       "<Figure size 432x288 with 1 Axes>"
      ]
     },
     "metadata": {},
     "output_type": "display_data"
    }
   ],
   "source": [
    "sec_image = b[3]\n",
    "plt.imshow(sec_image, cmap = 'gray')\n",
    "plt.show()"
   ]
  },
  {
   "cell_type": "code",
   "execution_count": 15,
   "metadata": {},
   "outputs": [
    {
     "data": {
      "image/png": "[encoded data removed]",
      "text/plain": [
       "<Figure size 432x288 with 9 Axes>"
      ]
     },
     "metadata": {},
     "output_type": "display_data"
    }
   ],
   "source": [
    "from matplotlib import pyplot\n",
    "for i in range(9):\n",
    "\t# define subplot\n",
    "\tpyplot.subplot(330 + 1 + i)\n",
    "\t# plot raw pixel data\n",
    "\tpyplot.imshow(b[i], cmap=pyplot.get_cmap('gray'))\n",
    "# show the figure\n",
    "pyplot.show()"
   ]
  },
  {
   "cell_type": "code",
   "execution_count": 16,
   "metadata": {},
   "outputs": [
    {
     "data": {
      "text/plain": [
       "(14, 14)"
      ]
     },
     "execution_count": 16,
     "metadata": {},
     "output_type": "execute_result"
    }
   ],
   "source": [
    "first_image.shape"
   ]
  },
  {
   "cell_type": "code",
   "execution_count": null,
   "metadata": {},
   "outputs": [],
   "source": []
  },
  {
   "cell_type": "code",
   "execution_count": 17,
   "metadata": {},
   "outputs": [],
   "source": [
    "X_train = features.values.reshape(features.shape[0], 14, 14, 1).astype('float32')\n",
    "X_test = features1.values.reshape(features1.shape[0], 14, 14, 1).astype('float32')\n",
    "import tensorflow as tf\n",
    "import tensorflow.keras as keras"
   ]
  },
  {
   "cell_type": "code",
   "execution_count": 18,
   "metadata": {},
   "outputs": [
    {
     "data": {
      "text/plain": [
       "(59999, 14, 14, 1)"
      ]
     },
     "execution_count": 18,
     "metadata": {},
     "output_type": "execute_result"
    }
   ],
   "source": [
    "X_train.shape"
   ]
  },
  {
   "cell_type": "code",
   "execution_count": 19,
   "metadata": {},
   "outputs": [
    {
     "data": {
      "text/plain": [
       "(59999, 14, 14, 1)"
      ]
     },
     "execution_count": 19,
     "metadata": {},
     "output_type": "execute_result"
    }
   ],
   "source": [
    "X_train.shape"
   ]
  },
  {
   "cell_type": "code",
   "execution_count": 20,
   "metadata": {},
   "outputs": [
    {
     "data": {
      "text/plain": [
       "(59999, 784)"
      ]
     },
     "execution_count": 20,
     "metadata": {},
     "output_type": "execute_result"
    }
   ],
   "source": [
    "target.shape"
   ]
  },
  {
   "cell_type": "code",
   "execution_count": null,
   "metadata": {},
   "outputs": [],
   "source": []
  },
  {
   "cell_type": "code",
   "execution_count": 21,
   "metadata": {},
   "outputs": [],
   "source": [
    "target_new = np.array(target)"
   ]
  },
  {
   "cell_type": "code",
   "execution_count": 32,
   "metadata": {},
   "outputs": [],
   "source": [
    "X_train = features.values.reshape(features.shape[0], 14, 14, 1).astype('float32')\n",
    "X_test = features1.values.reshape(features1.shape[0], 14, 14, 1).astype('float32')\n",
    "import tensorflow as tf\n",
    "import tensorflow.keras as keras"
   ]
  },
  {
   "cell_type": "code",
   "execution_count": 33,
   "metadata": {},
   "outputs": [],
   "source": [
    "import tensorflow as tf\n",
    "import tensorflow.keras as keras\n",
    "from numpy import asarray\n",
    "from keras.models import Sequential\n",
    "from keras.layers import Conv2DTranspose\n",
    "from tensorflow.keras.layers import Conv2D, MaxPooling2D, Dropout, Flatten, Dense, Conv2DTranspose, Reshape, Lambda"
   ]
  },
  {
   "cell_type": "code",
   "execution_count": 34,
   "metadata": {},
   "outputs": [],
   "source": [
    "def baseline_model():\n",
    "    model = tf.keras.Sequential()\n",
    "    model.add(Conv2DTranspose(filters=12, kernel_size=(3, 3),padding='valid', activation='relu',\n",
    "                              input_shape=(14,14,1)))\n",
    "    model.add(Conv2DTranspose(filters=12, kernel_size=(5, 5), activation='relu'))\n",
    "    model.add(Conv2DTranspose(filters=12, kernel_size=(7, 7), activation='relu'))\n",
    "    model.add(Conv2DTranspose(filters=12, kernel_size=(3, 3), activation='relu'))\n",
    "    model.add(Conv2DTranspose(filters=1, kernel_size=(1, 1), activation='relu'))\n",
    "    model.add(Lambda(lambda x: tf.keras.backend.squeeze(x, 3)))\n",
    "    model.add(Flatten())\n",
    "    model.compile(loss='mean_squared_error',\n",
    "                  optimizer=tf.keras.optimizers.SGD(lr=0.001, momentum=0.9))\n",
    "    return model\n",
    "   "
   ]
  },
  {
   "cell_type": "code",
   "execution_count": 35,
   "metadata": {},
   "outputs": [],
   "source": [
    "model = baseline_model()                          "
   ]
  },
  {
   "cell_type": "code",
   "execution_count": 36,
   "metadata": {},
   "outputs": [
    {
     "name": "stdout",
     "output_type": "stream",
     "text": [
      "Model: \"sequential_4\"\n",
      "_________________________________________________________________\n",
      "Layer (type)                 Output Shape              Param #   \n",
      "=================================================================\n",
      "conv2d_transpose_20 (Conv2DT (None, 16, 16, 12)        120       \n",
      "_________________________________________________________________\n",
      "conv2d_transpose_21 (Conv2DT (None, 20, 20, 12)        3612      \n",
      "_________________________________________________________________\n",
      "conv2d_transpose_22 (Conv2DT (None, 26, 26, 12)        7068      \n",
      "_________________________________________________________________\n",
      "conv2d_transpose_23 (Conv2DT (None, 28, 28, 12)        1308      \n",
      "_________________________________________________________________\n",
      "conv2d_transpose_24 (Conv2DT (None, 28, 28, 1)         13        \n",
      "_________________________________________________________________\n",
      "lambda_4 (Lambda)            (None, 28, 28)            0         \n",
      "_________________________________________________________________\n",
      "flatten_4 (Flatten)          (None, 784)               0         \n",
      "=================================================================\n",
      "Total params: 12,121\n",
      "Trainable params: 12,121\n",
      "Non-trainable params: 0\n",
      "_________________________________________________________________\n",
      "None\n"
     ]
    }
   ],
   "source": [
    "print(model.summary())"
   ]
  },
  {
   "cell_type": "code",
   "execution_count": 37,
   "metadata": {},
   "outputs": [
    {
     "name": "stdout",
     "output_type": "stream",
     "text": [
      "Train on 47999 samples, validate on 12000 samples\n",
      "Epoch 1/200\n",
      "47999/47999 - 50s - loss: 0.0723 - val_loss: 0.0661\n",
      "Epoch 2/200\n",
      "47999/47999 - 50s - loss: 0.0638 - val_loss: 0.0615\n",
      "Epoch 3/200\n",
      "47999/47999 - 50s - loss: 0.0592 - val_loss: 0.0572\n",
      "Epoch 4/200\n",
      "47999/47999 - 51s - loss: 0.0550 - val_loss: 0.0533\n",
      "Epoch 5/200\n",
      "47999/47999 - 53s - loss: 0.0512 - val_loss: 0.0496\n",
      "Epoch 6/200\n",
      "47999/47999 - 53s - loss: 0.0478 - val_loss: 0.0465\n",
      "Epoch 7/200\n",
      "47999/47999 - 49s - loss: 0.0451 - val_loss: 0.0442\n",
      "Epoch 8/200\n",
      "47999/47999 - 50s - loss: 0.0431 - val_loss: 0.0424\n",
      "Epoch 9/200\n",
      "47999/47999 - 50s - loss: 0.0415 - val_loss: 0.0409\n",
      "Epoch 10/200\n",
      "47999/47999 - 52s - loss: 0.0401 - val_loss: 0.0397\n",
      "Epoch 11/200\n",
      "47999/47999 - 54s - loss: 0.0389 - val_loss: 0.0385\n",
      "Epoch 12/200\n",
      "47999/47999 - 50s - loss: 0.0378 - val_loss: 0.0374\n",
      "Epoch 13/200\n",
      "47999/47999 - 49s - loss: 0.0368 - val_loss: 0.0365\n",
      "Epoch 14/200\n",
      "47999/47999 - 50s - loss: 0.0359 - val_loss: 0.0356\n",
      "Epoch 15/200\n",
      "47999/47999 - 50s - loss: 0.0351 - val_loss: 0.0348\n",
      "Epoch 16/200\n",
      "47999/47999 - 52s - loss: 0.0343 - val_loss: 0.0343\n",
      "Epoch 17/200\n",
      "47999/47999 - 53s - loss: 0.0336 - val_loss: 0.0334\n",
      "Epoch 18/200\n",
      "47999/47999 - 49s - loss: 0.0330 - val_loss: 0.0328\n",
      "Epoch 19/200\n",
      "47999/47999 - 50s - loss: 0.0324 - val_loss: 0.0322\n",
      "Epoch 20/200\n",
      "47999/47999 - 50s - loss: 0.0319 - val_loss: 0.0317\n",
      "Epoch 21/200\n",
      "47999/47999 - 52s - loss: 0.0314 - val_loss: 0.0314\n",
      "Epoch 22/200\n",
      "47999/47999 - 54s - loss: 0.0309 - val_loss: 0.0308\n",
      "Epoch 23/200\n",
      "47999/47999 - 50s - loss: 0.0305 - val_loss: 0.0304\n",
      "Epoch 24/200\n",
      "47999/47999 - 50s - loss: 0.0301 - val_loss: 0.0300\n",
      "Epoch 25/200\n",
      "47999/47999 - 50s - loss: 0.0297 - val_loss: 0.0299\n",
      "Epoch 26/200\n",
      "47999/47999 - 51s - loss: 0.0293 - val_loss: 0.0292\n",
      "Epoch 27/200\n",
      "47999/47999 - 53s - loss: 0.0290 - val_loss: 0.0289\n",
      "Epoch 28/200\n",
      "47999/47999 - 52s - loss: 0.0286 - val_loss: 0.0286\n",
      "Epoch 29/200\n",
      "47999/47999 - 50s - loss: 0.0283 - val_loss: 0.0282\n",
      "Epoch 30/200\n",
      "47999/47999 - 50s - loss: 0.0281 - val_loss: 0.0281\n",
      "Epoch 31/200\n",
      "47999/47999 - 50s - loss: 0.0278 - val_loss: 0.0277\n",
      "Epoch 32/200\n",
      "47999/47999 - 52s - loss: 0.0276 - val_loss: 0.0274\n",
      "Epoch 33/200\n",
      "47999/47999 - 54s - loss: 0.0273 - val_loss: 0.0272\n",
      "Epoch 34/200\n",
      "47999/47999 - 49s - loss: 0.0271 - val_loss: 0.0269\n",
      "Epoch 35/200\n",
      "47999/47999 - 50s - loss: 0.0269 - val_loss: 0.0267\n",
      "Epoch 36/200\n",
      "47999/47999 - 50s - loss: 0.0266 - val_loss: 0.0265\n",
      "Epoch 37/200\n",
      "47999/47999 - 54s - loss: 0.0265 - val_loss: 0.0264\n",
      "Epoch 38/200\n",
      "47999/47999 - 50s - loss: 0.0262 - val_loss: 0.0261\n",
      "Epoch 39/200\n",
      "47999/47999 - 49s - loss: 0.0261 - val_loss: 0.0261\n",
      "Epoch 40/200\n",
      "47999/47999 - 49s - loss: 0.0259 - val_loss: 0.0257\n",
      "Epoch 41/200\n",
      "47999/47999 - 50s - loss: 0.0257 - val_loss: 0.0257\n",
      "Epoch 42/200\n",
      "47999/47999 - 49s - loss: 0.0256 - val_loss: 0.0254\n",
      "Epoch 43/200\n",
      "47999/47999 - 49s - loss: 0.0254 - val_loss: 0.0252\n",
      "Epoch 44/200\n",
      "47999/47999 - 49s - loss: 0.0252 - val_loss: 0.0254\n",
      "Epoch 45/200\n",
      "47999/47999 - 49s - loss: 0.0251 - val_loss: 0.0255\n",
      "Epoch 46/200\n",
      "47999/47999 - 49s - loss: 0.0249 - val_loss: 0.0255\n",
      "Epoch 47/200\n",
      "47999/47999 - 49s - loss: 0.0248 - val_loss: 0.0250\n",
      "Epoch 48/200\n",
      "47999/47999 - 50s - loss: 0.0246 - val_loss: 0.0247\n",
      "Epoch 49/200\n",
      "47999/47999 - 49s - loss: 0.0245 - val_loss: 0.0243\n",
      "Epoch 50/200\n",
      "47999/47999 - 49s - loss: 0.0243 - val_loss: 0.0243\n",
      "Epoch 51/200\n",
      "47999/47999 - 49s - loss: 0.0242 - val_loss: 0.0240\n",
      "Epoch 52/200\n",
      "47999/47999 - 50s - loss: 0.0241 - val_loss: 0.0241\n",
      "Epoch 53/200\n",
      "47999/47999 - 49s - loss: 0.0239 - val_loss: 0.0238\n",
      "Epoch 54/200\n",
      "47999/47999 - 49s - loss: 0.0238 - val_loss: 0.0236\n",
      "Epoch 55/200\n",
      "47999/47999 - 65s - loss: 0.0237 - val_loss: 0.0235\n",
      "Epoch 56/200\n",
      "47999/47999 - 50s - loss: 0.0235 - val_loss: 0.0236\n",
      "Epoch 57/200\n",
      "47999/47999 - 50s - loss: 0.0234 - val_loss: 0.0231\n",
      "Epoch 58/200\n",
      "47999/47999 - 49s - loss: 0.0233 - val_loss: 0.0230\n",
      "Epoch 59/200\n",
      "47999/47999 - 49s - loss: 0.0231 - val_loss: 0.0230\n",
      "Epoch 60/200\n",
      "47999/47999 - 49s - loss: 0.0230 - val_loss: 0.0228\n",
      "Epoch 61/200\n",
      "47999/47999 - 52s - loss: 0.0229 - val_loss: 0.0228\n",
      "Epoch 62/200\n",
      "47999/47999 - 49s - loss: 0.0228 - val_loss: 0.0229\n",
      "Epoch 63/200\n",
      "47999/47999 - 50s - loss: 0.0227 - val_loss: 0.0224\n",
      "Epoch 64/200\n",
      "47999/47999 - 50s - loss: 0.0226 - val_loss: 0.0224\n",
      "Epoch 65/200\n",
      "47999/47999 - 50s - loss: 0.0224 - val_loss: 0.0224\n",
      "Epoch 66/200\n",
      "47999/47999 - 50s - loss: 0.0223 - val_loss: 0.0221\n",
      "Epoch 67/200\n",
      "47999/47999 - 49s - loss: 0.0222 - val_loss: 0.0220\n",
      "Epoch 68/200\n",
      "47999/47999 - 50s - loss: 0.0221 - val_loss: 0.0218\n",
      "Epoch 69/200\n",
      "47999/47999 - 50s - loss: 0.0220 - val_loss: 0.0218\n",
      "Epoch 70/200\n",
      "47999/47999 - 51s - loss: 0.0219 - val_loss: 0.0219\n",
      "Epoch 71/200\n",
      "47999/47999 - 49s - loss: 0.0218 - val_loss: 0.0215\n",
      "Epoch 72/200\n",
      "47999/47999 - 49s - loss: 0.0217 - val_loss: 0.0216\n",
      "Epoch 73/200\n",
      "47999/47999 - 50s - loss: 0.0216 - val_loss: 0.0216\n",
      "Epoch 74/200\n",
      "47999/47999 - 50s - loss: 0.0214 - val_loss: 0.0214\n",
      "Epoch 75/200\n",
      "47999/47999 - 50s - loss: 0.0213 - val_loss: 0.0212\n",
      "Epoch 76/200\n",
      "47999/47999 - 50s - loss: 0.0212 - val_loss: 0.0210\n",
      "Epoch 77/200\n",
      "47999/47999 - 50s - loss: 0.0211 - val_loss: 0.0210\n",
      "Epoch 78/200\n",
      "47999/47999 - 50s - loss: 0.0210 - val_loss: 0.0209\n",
      "Epoch 79/200\n",
      "47999/47999 - 51s - loss: 0.0209 - val_loss: 0.0207\n",
      "Epoch 80/200\n",
      "47999/47999 - 49s - loss: 0.0208 - val_loss: 0.0207\n",
      "Epoch 81/200\n",
      "47999/47999 - 50s - loss: 0.0207 - val_loss: 0.0206\n",
      "Epoch 82/200\n",
      "47999/47999 - 50s - loss: 0.0207 - val_loss: 0.0205\n",
      "Epoch 83/200\n",
      "47999/47999 - 50s - loss: 0.0206 - val_loss: 0.0204\n",
      "Epoch 84/200\n",
      "47999/47999 - 51s - loss: 0.0205 - val_loss: 0.0203\n",
      "Epoch 85/200\n",
      "47999/47999 - 50s - loss: 0.0204 - val_loss: 0.0208\n",
      "Epoch 86/200\n",
      "47999/47999 - 50s - loss: 0.0203 - val_loss: 0.0201\n",
      "Epoch 87/200\n",
      "47999/47999 - 50s - loss: 0.0202 - val_loss: 0.0201\n",
      "Epoch 88/200\n",
      "47999/47999 - 51s - loss: 0.0201 - val_loss: 0.0200\n",
      "Epoch 89/200\n",
      "47999/47999 - 50s - loss: 0.0201 - val_loss: 0.0199\n",
      "Epoch 90/200\n",
      "47999/47999 - 50s - loss: 0.0200 - val_loss: 0.0198\n",
      "Epoch 91/200\n",
      "47999/47999 - 50s - loss: 0.0198 - val_loss: 0.0201\n",
      "Epoch 92/200\n",
      "47999/47999 - 51s - loss: 0.0198 - val_loss: 0.0197\n",
      "Epoch 93/200\n",
      "47999/47999 - 52s - loss: 0.0197 - val_loss: 0.0200\n",
      "Epoch 94/200\n",
      "47999/47999 - 49s - loss: 0.0196 - val_loss: 0.0194\n",
      "Epoch 95/200\n",
      "47999/47999 - 50s - loss: 0.0195 - val_loss: 0.0194\n",
      "Epoch 96/200\n",
      "47999/47999 - 50s - loss: 0.0194 - val_loss: 0.0194\n",
      "Epoch 97/200\n",
      "47999/47999 - 50s - loss: 0.0194 - val_loss: 0.0192\n",
      "Epoch 98/200\n",
      "47999/47999 - 52s - loss: 0.0193 - val_loss: 0.0192\n",
      "Epoch 99/200\n",
      "47999/47999 - 54s - loss: 0.0193 - val_loss: 0.0191\n",
      "Epoch 100/200\n",
      "47999/47999 - 53s - loss: 0.0192 - val_loss: 0.0206\n",
      "Epoch 101/200\n",
      "47999/47999 - 53s - loss: 0.0191 - val_loss: 0.0190\n",
      "Epoch 102/200\n",
      "47999/47999 - 60s - loss: 0.0190 - val_loss: 0.0190\n",
      "Epoch 103/200\n",
      "47999/47999 - 62s - loss: 0.0190 - val_loss: 0.0188\n",
      "Epoch 104/200\n",
      "47999/47999 - 55s - loss: 0.0189 - val_loss: 0.0187\n",
      "Epoch 105/200\n",
      "47999/47999 - 54s - loss: 0.0188 - val_loss: 0.0187\n",
      "Epoch 106/200\n",
      "47999/47999 - 55s - loss: 0.0188 - val_loss: 0.0186\n",
      "Epoch 107/200\n",
      "47999/47999 - 56s - loss: 0.0187 - val_loss: 0.0187\n",
      "Epoch 108/200\n",
      "47999/47999 - 56s - loss: 0.0186 - val_loss: 0.0185\n",
      "Epoch 109/200\n",
      "47999/47999 - 50s - loss: 0.0185 - val_loss: 0.0184\n",
      "Epoch 110/200\n",
      "47999/47999 - 50s - loss: 0.0185 - val_loss: 0.0184\n",
      "Epoch 111/200\n",
      "47999/47999 - 50s - loss: 0.0184 - val_loss: 0.0184\n",
      "Epoch 112/200\n",
      "47999/47999 - 51s - loss: 0.0184 - val_loss: 0.0182\n",
      "Epoch 113/200\n",
      "47999/47999 - 53s - loss: 0.0183 - val_loss: 0.0182\n",
      "Epoch 114/200\n",
      "47999/47999 - 49s - loss: 0.0182 - val_loss: 0.0182\n",
      "Epoch 115/200\n",
      "47999/47999 - 50s - loss: 0.0182 - val_loss: 0.0184\n",
      "Epoch 116/200\n",
      "47999/47999 - 50s - loss: 0.0181 - val_loss: 0.0181\n",
      "Epoch 117/200\n",
      "47999/47999 - 51s - loss: 0.0181 - val_loss: 0.0179\n",
      "Epoch 118/200\n",
      "47999/47999 - 52s - loss: 0.0180 - val_loss: 0.0179\n",
      "Epoch 119/200\n",
      "47999/47999 - 51s - loss: 0.0180 - val_loss: 0.0180\n",
      "Epoch 120/200\n",
      "47999/47999 - 50s - loss: 0.0179 - val_loss: 0.0180\n",
      "Epoch 121/200\n",
      "47999/47999 - 50s - loss: 0.0179 - val_loss: 0.0177\n",
      "Epoch 122/200\n",
      "47999/47999 - 50s - loss: 0.0178 - val_loss: 0.0177\n",
      "Epoch 123/200\n",
      "47999/47999 - 52s - loss: 0.0177 - val_loss: 0.0180\n",
      "Epoch 124/200\n",
      "47999/47999 - 52s - loss: 0.0177 - val_loss: 0.0176\n",
      "Epoch 125/200\n",
      "47999/47999 - 50s - loss: 0.0176 - val_loss: 0.0176\n",
      "Epoch 126/200\n"
     ]
    },
    {
     "name": "stdout",
     "output_type": "stream",
     "text": [
      "47999/47999 - 3019s - loss: 0.0176 - val_loss: 0.0175\n",
      "Epoch 127/200\n",
      "47999/47999 - 49s - loss: 0.0175 - val_loss: 0.0175\n",
      "Epoch 128/200\n",
      "47999/47999 - 51s - loss: 0.0175 - val_loss: 0.0174\n",
      "Epoch 129/200\n",
      "47999/47999 - 52s - loss: 0.0174 - val_loss: 0.0173\n",
      "Epoch 130/200\n",
      "47999/47999 - 52s - loss: 0.0174 - val_loss: 0.0173\n",
      "Epoch 131/200\n",
      "47999/47999 - 49s - loss: 0.0173 - val_loss: 0.0172\n",
      "Epoch 132/200\n",
      "47999/47999 - 51s - loss: 0.0173 - val_loss: 0.0172\n",
      "Epoch 133/200\n",
      "47999/47999 - 51s - loss: 0.0172 - val_loss: 0.0172\n",
      "Epoch 134/200\n",
      "47999/47999 - 51s - loss: 0.0172 - val_loss: 0.0171\n",
      "Epoch 135/200\n",
      "47999/47999 - 49s - loss: 0.0171 - val_loss: 0.0170\n",
      "Epoch 136/200\n",
      "47999/47999 - 50s - loss: 0.0171 - val_loss: 0.0170\n",
      "Epoch 137/200\n",
      "47999/47999 - 50s - loss: 0.0170 - val_loss: 0.0172\n",
      "Epoch 138/200\n",
      "47999/47999 - 52s - loss: 0.0170 - val_loss: 0.0173\n",
      "Epoch 139/200\n",
      "47999/47999 - 51s - loss: 0.0169 - val_loss: 0.0168\n",
      "Epoch 140/200\n",
      "47999/47999 - 50s - loss: 0.0169 - val_loss: 0.0168\n",
      "Epoch 141/200\n",
      "47999/47999 - 50s - loss: 0.0168 - val_loss: 0.0168\n",
      "Epoch 142/200\n",
      "47999/47999 - 51s - loss: 0.0168 - val_loss: 0.0167\n",
      "Epoch 143/200\n",
      "47999/47999 - 52s - loss: 0.0168 - val_loss: 0.0166\n",
      "Epoch 144/200\n",
      "47999/47999 - 49s - loss: 0.0167 - val_loss: 0.0166\n",
      "Epoch 145/200\n",
      "47999/47999 - 50s - loss: 0.0166 - val_loss: 0.0167\n",
      "Epoch 146/200\n",
      "47999/47999 - 50s - loss: 0.0166 - val_loss: 0.0165\n",
      "Epoch 147/200\n",
      "47999/47999 - 51s - loss: 0.0165 - val_loss: 0.0166\n",
      "Epoch 148/200\n",
      "47999/47999 - 52s - loss: 0.0165 - val_loss: 0.0165\n",
      "Epoch 149/200\n",
      "47999/47999 - 50s - loss: 0.0165 - val_loss: 0.0165\n",
      "Epoch 150/200\n",
      "47999/47999 - 50s - loss: 0.0164 - val_loss: 0.0163\n",
      "Epoch 151/200\n",
      "47999/47999 - 50s - loss: 0.0164 - val_loss: 0.0166\n",
      "Epoch 152/200\n",
      "47999/47999 - 52s - loss: 0.0164 - val_loss: 0.0162\n",
      "Epoch 153/200\n",
      "47999/47999 - 51s - loss: 0.0163 - val_loss: 0.0162\n",
      "Epoch 154/200\n",
      "47999/47999 - 50s - loss: 0.0162 - val_loss: 0.0161\n",
      "Epoch 155/200\n",
      "47999/47999 - 50s - loss: 0.0162 - val_loss: 0.0161\n",
      "Epoch 156/200\n",
      "47999/47999 - 51s - loss: 0.0162 - val_loss: 0.0162\n",
      "Epoch 157/200\n",
      "47999/47999 - 53s - loss: 0.0161 - val_loss: 0.0160\n",
      "Epoch 158/200\n",
      "47999/47999 - 51s - loss: 0.0161 - val_loss: 0.0159\n",
      "Epoch 159/200\n",
      "47999/47999 - 50s - loss: 0.0160 - val_loss: 0.0159\n",
      "Epoch 160/200\n",
      "47999/47999 - 50s - loss: 0.0160 - val_loss: 0.0159\n",
      "Epoch 161/200\n",
      "47999/47999 - 51s - loss: 0.0160 - val_loss: 0.0158\n",
      "Epoch 162/200\n",
      "47999/47999 - 52s - loss: 0.0159 - val_loss: 0.0158\n",
      "Epoch 163/200\n",
      "47999/47999 - 49s - loss: 0.0159 - val_loss: 0.0158\n",
      "Epoch 164/200\n",
      "47999/47999 - 50s - loss: 0.0158 - val_loss: 0.0158\n",
      "Epoch 165/200\n",
      "47999/47999 - 50s - loss: 0.0158 - val_loss: 0.0157\n",
      "Epoch 166/200\n",
      "47999/47999 - 52s - loss: 0.0158 - val_loss: 0.0160\n",
      "Epoch 167/200\n",
      "47999/47999 - 51s - loss: 0.0157 - val_loss: 0.0157\n",
      "Epoch 168/200\n",
      "47999/47999 - 50s - loss: 0.0157 - val_loss: 0.0156\n",
      "Epoch 169/200\n",
      "47999/47999 - 50s - loss: 0.0157 - val_loss: 0.0157\n",
      "Epoch 170/200\n",
      "47999/47999 - 50s - loss: 0.0156 - val_loss: 0.0155\n",
      "Epoch 171/200\n",
      "47999/47999 - 52s - loss: 0.0156 - val_loss: 0.0155\n",
      "Epoch 172/200\n",
      "47999/47999 - 51s - loss: 0.0156 - val_loss: 0.0154\n",
      "Epoch 173/200\n",
      "47999/47999 - 50s - loss: 0.0156 - val_loss: 0.0154\n",
      "Epoch 174/200\n",
      "47999/47999 - 50s - loss: 0.0155 - val_loss: 0.0156\n",
      "Epoch 175/200\n",
      "47999/47999 - 51s - loss: 0.0155 - val_loss: 0.0157\n",
      "Epoch 176/200\n",
      "47999/47999 - 53s - loss: 0.0154 - val_loss: 0.0153\n",
      "Epoch 177/200\n",
      "47999/47999 - 49s - loss: 0.0154 - val_loss: 0.0153\n",
      "Epoch 178/200\n",
      "47999/47999 - 50s - loss: 0.0153 - val_loss: 0.0153\n",
      "Epoch 179/200\n",
      "47999/47999 - 50s - loss: 0.0153 - val_loss: 0.0152\n",
      "Epoch 180/200\n",
      "47999/47999 - 51s - loss: 0.0153 - val_loss: 0.0153\n",
      "Epoch 181/200\n",
      "47999/47999 - 52s - loss: 0.0152 - val_loss: 0.0152\n",
      "Epoch 182/200\n",
      "47999/47999 - 50s - loss: 0.0153 - val_loss: 0.0152\n",
      "Epoch 183/200\n",
      "47999/47999 - 50s - loss: 0.0152 - val_loss: 0.0153\n",
      "Epoch 184/200\n",
      "47999/47999 - 50s - loss: 0.0152 - val_loss: 0.0150\n",
      "Epoch 185/200\n",
      "47999/47999 - 52s - loss: 0.0151 - val_loss: 0.0150\n",
      "Epoch 186/200\n",
      "47999/47999 - 50s - loss: 0.0151 - val_loss: 0.0150\n",
      "Epoch 187/200\n",
      "47999/47999 - 50s - loss: 0.0151 - val_loss: 0.0150\n",
      "Epoch 188/200\n",
      "47999/47999 - 50s - loss: 0.0150 - val_loss: 0.0149\n",
      "Epoch 189/200\n",
      "47999/47999 - 51s - loss: 0.0150 - val_loss: 0.0150\n",
      "Epoch 190/200\n",
      "47999/47999 - 52s - loss: 0.0150 - val_loss: 0.0150\n",
      "Epoch 191/200\n",
      "47999/47999 - 49s - loss: 0.0150 - val_loss: 0.0149\n",
      "Epoch 192/200\n",
      "47999/47999 - 50s - loss: 0.0149 - val_loss: 0.0149\n",
      "Epoch 193/200\n",
      "47999/47999 - 50s - loss: 0.0149 - val_loss: 0.0151\n",
      "Epoch 194/200\n",
      "47999/47999 - 51s - loss: 0.0149 - val_loss: 0.0149\n",
      "Epoch 195/200\n",
      "47999/47999 - 51s - loss: 0.0148 - val_loss: 0.0147\n",
      "Epoch 196/200\n",
      "47999/47999 - 50s - loss: 0.0148 - val_loss: 0.0147\n",
      "Epoch 197/200\n",
      "47999/47999 - 50s - loss: 0.0148 - val_loss: 0.0148\n",
      "Epoch 198/200\n",
      "47999/47999 - 51s - loss: 0.0147 - val_loss: 0.0146\n",
      "Epoch 199/200\n",
      "47999/47999 - 53s - loss: 0.0147 - val_loss: 0.0148\n",
      "Epoch 200/200\n",
      "47999/47999 - 50s - loss: 0.0147 - val_loss: 0.0146\n"
     ]
    }
   ],
   "source": [
    "model = baseline_model()\n",
    "history = model.fit(X_train, target_new,validation_split = 0.2, epochs=200, batch_size = 50, verbose = 2)"
   ]
  },
  {
   "cell_type": "code",
   "execution_count": 38,
   "metadata": {},
   "outputs": [
    {
     "name": "stdout",
     "output_type": "stream",
     "text": [
      "dict_keys(['loss', 'val_loss'])\n"
     ]
    }
   ],
   "source": [
    "print(history.history.keys())"
   ]
  },
  {
   "cell_type": "code",
   "execution_count": 39,
   "metadata": {},
   "outputs": [
    {
     "data": {
      "image/png": "[encoded data removed]",
      "text/plain": [
       "<Figure size 432x288 with 1 Axes>"
      ]
     },
     "metadata": {},
     "output_type": "display_data"
    }
   ],
   "source": [
    "\n",
    "# summarize history for loss\n",
    "plt.plot(history.history['loss'])\n",
    "plt.plot(history.history['val_loss'])\n",
    "plt.title('model loss')\n",
    "plt.ylabel('loss')\n",
    "plt.xlabel('epoch')\n",
    "plt.legend(['train', 'valid'], loc='upper left')\n",
    "plt.show()"
   ]
  },
  {
   "cell_type": "code",
   "execution_count": 40,
   "metadata": {},
   "outputs": [
    {
     "name": "stdout",
     "output_type": "stream",
     "text": [
      "59999/1 - 26s - loss: 0.0159\n",
      "Training MSE: 0.014597662622247048\n"
     ]
    }
   ],
   "source": [
    "train_loss = model.evaluate(X_train, target_new,verbose = 2)\n",
    "print(\"Training MSE: {}\".format(train_loss))"
   ]
  },
  {
   "cell_type": "code",
   "execution_count": 55,
   "metadata": {},
   "outputs": [],
   "source": [
    "Y_TEST = np.array(target1)"
   ]
  },
  {
   "cell_type": "code",
   "execution_count": 56,
   "metadata": {},
   "outputs": [
    {
     "name": "stdout",
     "output_type": "stream",
     "text": [
      "9999/1 - 4s - loss: 0.0132\n",
      "Testing MSE: 0.014206127844995284\n"
     ]
    }
   ],
   "source": [
    "test_loss = model.evaluate(X_test, target_new1,verbose = 2)\n",
    "print(\"Testing MSE: {}\".format(test_loss))"
   ]
  },
  {
   "cell_type": "code",
   "execution_count": 43,
   "metadata": {},
   "outputs": [
    {
     "name": "stdout",
     "output_type": "stream",
     "text": [
      "WARNING:tensorflow:From C:\\Users\\abhil\\Anaconda3\\lib\\site-packages\\tensorflow_core\\python\\ops\\resource_variable_ops.py:1781: calling BaseResourceVariable.__init__ (from tensorflow.python.ops.resource_variable_ops) with constraint is deprecated and will be removed in a future version.\n",
      "Instructions for updating:\n",
      "If using Keras pass *_constraint arguments to layers.\n",
      "INFO:tensorflow:Assets written to: new.SUP\\assets\n"
     ]
    }
   ],
   "source": [
    "# saving model\n",
    "model.save(\"new.SUP\")"
   ]
  },
  {
   "cell_type": "code",
   "execution_count": 57,
   "metadata": {},
   "outputs": [
    {
     "data": {
      "text/plain": [
       "(9999, 14, 14, 1)"
      ]
     },
     "execution_count": 57,
     "metadata": {},
     "output_type": "execute_result"
    }
   ],
   "source": [
    "X_test.shape"
   ]
  },
  {
   "cell_type": "code",
   "execution_count": 58,
   "metadata": {},
   "outputs": [],
   "source": [
    "# making predictions \n",
    "predictions = model.predict([X_test])  "
   ]
  },
  {
   "cell_type": "code",
   "execution_count": 59,
   "metadata": {},
   "outputs": [
    {
     "data": {
      "text/plain": [
       "(9999, 784)"
      ]
     },
     "execution_count": 59,
     "metadata": {},
     "output_type": "execute_result"
    }
   ],
   "source": [
    "predictions.shape"
   ]
  },
  {
   "cell_type": "code",
   "execution_count": 60,
   "metadata": {},
   "outputs": [],
   "source": [
    "from sklearn.metrics import mean_squared_error"
   ]
  },
  {
   "cell_type": "code",
   "execution_count": 61,
   "metadata": {},
   "outputs": [
    {
     "name": "stdout",
     "output_type": "stream",
     "text": [
      "Model Mean Squared Error: 0.014206128018204473\n"
     ]
    }
   ],
   "source": [
    "# Model error\n",
    "ERROR = mean_squared_error(Y_TEST, predictions)\n",
    "print(\"Model Mean Squared Error: {}\".format(ERROR))"
   ]
  },
  {
   "cell_type": "code",
   "execution_count": 63,
   "metadata": {},
   "outputs": [],
   "source": [
    "Pre = np.expand_dims(predictions, axis=2)"
   ]
  },
  {
   "cell_type": "code",
   "execution_count": 64,
   "metadata": {},
   "outputs": [
    {
     "data": {
      "text/plain": [
       "(9999, 784, 1)"
      ]
     },
     "execution_count": 64,
     "metadata": {},
     "output_type": "execute_result"
    }
   ],
   "source": [
    "Pre.shape"
   ]
  },
  {
   "cell_type": "code",
   "execution_count": 65,
   "metadata": {},
   "outputs": [],
   "source": [
    "PRE = Pre.reshape(Pre.shape[0], 28, 28, 1).astype('float32')"
   ]
  },
  {
   "cell_type": "code",
   "execution_count": 66,
   "metadata": {},
   "outputs": [
    {
     "data": {
      "text/plain": [
       "(9999, 28, 28, 1)"
      ]
     },
     "execution_count": 66,
     "metadata": {},
     "output_type": "execute_result"
    }
   ],
   "source": [
    "PRE.shape"
   ]
  },
  {
   "cell_type": "code",
   "execution_count": 67,
   "metadata": {},
   "outputs": [
    {
     "data": {
      "text/plain": [
       "(9999, 28, 28)"
      ]
     },
     "execution_count": 67,
     "metadata": {},
     "output_type": "execute_result"
    }
   ],
   "source": [
    "a = PRE.squeeze()\n",
    "a.shape"
   ]
  },
  {
   "cell_type": "code",
   "execution_count": 68,
   "metadata": {
    "scrolled": true
   },
   "outputs": [
    {
     "data": {
      "image/png": "[encoded data removed]",
      "text/plain": [
       "<Figure size 432x288 with 1 Axes>"
      ]
     },
     "metadata": {},
     "output_type": "display_data"
    }
   ],
   "source": [
    "SR_image = a[20]\n",
    "plt.imshow(SR_image,cmap = 'gray')\n",
    "plt.show()"
   ]
  },
  {
   "cell_type": "code",
   "execution_count": 69,
   "metadata": {},
   "outputs": [
    {
     "data": {
      "text/plain": [
       "(28, 28)"
      ]
     },
     "execution_count": 69,
     "metadata": {},
     "output_type": "execute_result"
    }
   ],
   "source": [
    "SR_image.shape"
   ]
  },
  {
   "cell_type": "code",
   "execution_count": 71,
   "metadata": {},
   "outputs": [
    {
     "data": {
      "image/png": "[encoded data removed]",
      "text/plain": [
       "<Figure size 432x288 with 1 Axes>"
      ]
     },
     "metadata": {},
     "output_type": "display_data"
    }
   ],
   "source": [
    "SR_IMage = a[22]\n",
    "plt.imshow(SR_IMage,cmap = 'gray')\n",
    "plt.show()"
   ]
  },
  {
   "cell_type": "code",
   "execution_count": 97,
   "metadata": {},
   "outputs": [],
   "source": []
  },
  {
   "cell_type": "code",
   "execution_count": 98,
   "metadata": {
    "scrolled": true
   },
   "outputs": [],
   "source": []
  },
  {
   "cell_type": "code",
   "execution_count": 99,
   "metadata": {},
   "outputs": [
    {
     "name": "stderr",
     "output_type": "stream",
     "text": [
      "C:\\Users\\abhil\\Anaconda3\\lib\\site-packages\\keras_preprocessing\\image\\utils.py:104: UserWarning: grayscale is deprecated. Please use color_mode = \"grayscale\"\n",
      "  warnings.warn('grayscale is deprecated. Please use '\n"
     ]
    }
   ],
   "source": []
  },
  {
   "cell_type": "code",
   "execution_count": 100,
   "metadata": {},
   "outputs": [
    {
     "data": {
      "image/png": "[encoded data removed]",
      "text/plain": [
       "<PIL.PngImagePlugin.PngImageFile image mode=L size=252x252 at 0x1B3804A9048>"
      ]
     },
     "execution_count": 100,
     "metadata": {},
     "output_type": "execute_result"
    }
   ],
   "source": [
    "img"
   ]
  },
  {
   "cell_type": "code",
   "execution_count": 101,
   "metadata": {},
   "outputs": [
    {
     "data": {
      "text/plain": [
       "(252, 252)"
      ]
     },
     "execution_count": 101,
     "metadata": {},
     "output_type": "execute_result"
    }
   ],
   "source": [
    "img.size"
   ]
  },
  {
   "cell_type": "code",
   "execution_count": null,
   "metadata": {},
   "outputs": [],
   "source": []
  },
  {
   "cell_type": "code",
   "execution_count": null,
   "metadata": {},
   "outputs": [],
   "source": []
  },
  {
   "cell_type": "code",
   "execution_count": 102,
   "metadata": {},
   "outputs": [],
   "source": [
    "img_array = img_to_array(img)"
   ]
  },
  {
   "cell_type": "code",
   "execution_count": 103,
   "metadata": {},
   "outputs": [
    {
     "data": {
      "text/plain": [
       "(252, 252, 1)"
      ]
     },
     "execution_count": 103,
     "metadata": {},
     "output_type": "execute_result"
    }
   ],
   "source": [
    "img_array.shape"
   ]
  },
  {
   "cell_type": "code",
   "execution_count": 104,
   "metadata": {},
   "outputs": [],
   "source": [
    "save_img('new.png', img_array)"
   ]
  },
  {
   "cell_type": "code",
   "execution_count": 105,
   "metadata": {},
   "outputs": [],
   "source": [
    "img = load_img('new.png')"
   ]
  },
  {
   "cell_type": "code",
   "execution_count": 106,
   "metadata": {},
   "outputs": [
    {
     "data": {
      "image/png": "[encoded data removed]",
      "text/plain": [
       "<PIL.Image.Image image mode=RGB size=252x252 at 0x1B39FF7CA88>"
      ]
     },
     "execution_count": 106,
     "metadata": {},
     "output_type": "execute_result"
    }
   ],
   "source": [
    "img"
   ]
  },
  {
   "cell_type": "code",
   "execution_count": 107,
   "metadata": {},
   "outputs": [],
   "source": [
    "h, w, _ = img_array.shape"
   ]
  },
  {
   "cell_type": "code",
   "execution_count": 108,
   "metadata": {},
   "outputs": [],
   "source": [
    "factor = 18\n",
    "new_height = int(h / factor)\n",
    "new_width = int( w / factor)"
   ]
  },
  {
   "cell_type": "code",
   "execution_count": 109,
   "metadata": {},
   "outputs": [
    {
     "data": {
      "text/plain": [
       "(14, 14)"
      ]
     },
     "execution_count": 109,
     "metadata": {},
     "output_type": "execute_result"
    }
   ],
   "source": [
    "new_height,new_width"
   ]
  },
  {
   "cell_type": "code",
   "execution_count": 110,
   "metadata": {},
   "outputs": [],
   "source": [
    "IMAGE = cv2.resize(img_array, (new_width, new_height), interpolation = cv2.INTER_LINEAR)"
   ]
  },
  {
   "cell_type": "code",
   "execution_count": 111,
   "metadata": {},
   "outputs": [
    {
     "data": {
      "text/plain": [
       "196"
      ]
     },
     "execution_count": 111,
     "metadata": {},
     "output_type": "execute_result"
    }
   ],
   "source": [
    "IMAGE.size"
   ]
  },
  {
   "cell_type": "code",
   "execution_count": 112,
   "metadata": {},
   "outputs": [],
   "source": [
    "#IMAGE_array = np.expand_dims(IMAGE, axis=2)\n",
    "IMAGE_array = img_to_array(IMAGE)"
   ]
  },
  {
   "cell_type": "code",
   "execution_count": 113,
   "metadata": {},
   "outputs": [
    {
     "data": {
      "text/plain": [
       "(14, 14, 1)"
      ]
     },
     "execution_count": 113,
     "metadata": {},
     "output_type": "execute_result"
    }
   ],
   "source": [
    "IMAGE_array.shape"
   ]
  },
  {
   "cell_type": "code",
   "execution_count": null,
   "metadata": {},
   "outputs": [],
   "source": []
  },
  {
   "cell_type": "code",
   "execution_count": null,
   "metadata": {},
   "outputs": [],
   "source": []
  },
  {
   "cell_type": "code",
   "execution_count": 114,
   "metadata": {},
   "outputs": [
    {
     "data": {
      "text/plain": [
       "(14, 14, 1)"
      ]
     },
     "execution_count": 114,
     "metadata": {},
     "output_type": "execute_result"
    }
   ],
   "source": [
    "IMAGE_array.shape"
   ]
  },
  {
   "cell_type": "code",
   "execution_count": null,
   "metadata": {},
   "outputs": [],
   "source": []
  },
  {
   "cell_type": "code",
   "execution_count": 115,
   "metadata": {},
   "outputs": [],
   "source": [
    "IMAGE_array = IMAGE_array.reshape((-1, 14, 14, 1))"
   ]
  },
  {
   "cell_type": "code",
   "execution_count": 116,
   "metadata": {},
   "outputs": [
    {
     "data": {
      "text/plain": [
       "(1, 14, 14, 1)"
      ]
     },
     "execution_count": 116,
     "metadata": {},
     "output_type": "execute_result"
    }
   ],
   "source": [
    "IMAGE_array.shape"
   ]
  },
  {
   "cell_type": "code",
   "execution_count": 117,
   "metadata": {},
   "outputs": [],
   "source": [
    "SUPER_image = new_model.predict([IMAGE_array]) "
   ]
  },
  {
   "cell_type": "code",
   "execution_count": 118,
   "metadata": {},
   "outputs": [
    {
     "data": {
      "text/plain": [
       "(1, 784)"
      ]
     },
     "execution_count": 118,
     "metadata": {},
     "output_type": "execute_result"
    }
   ],
   "source": [
    "SUPER_image.shape"
   ]
  },
  {
   "cell_type": "code",
   "execution_count": 119,
   "metadata": {},
   "outputs": [],
   "source": [
    "SUPER = SUPER_image.reshape(SUPER_image.shape[0], 1, 28, 28).astype('float32')"
   ]
  },
  {
   "cell_type": "code",
   "execution_count": 120,
   "metadata": {},
   "outputs": [
    {
     "data": {
      "text/plain": [
       "(1, 1, 28, 28)"
      ]
     },
     "execution_count": 120,
     "metadata": {},
     "output_type": "execute_result"
    }
   ],
   "source": [
    "SUPER.shape"
   ]
  },
  {
   "cell_type": "code",
   "execution_count": null,
   "metadata": {},
   "outputs": [],
   "source": []
  },
  {
   "cell_type": "code",
   "execution_count": 121,
   "metadata": {},
   "outputs": [],
   "source": [
    "SUPER = SUPER_image.reshape(SUPER_image.shape[0], 1, 28, 28).astype('float32')"
   ]
  },
  {
   "cell_type": "code",
   "execution_count": 122,
   "metadata": {},
   "outputs": [
    {
     "data": {
      "text/plain": [
       "(1, 1, 28, 28)"
      ]
     },
     "execution_count": 122,
     "metadata": {},
     "output_type": "execute_result"
    }
   ],
   "source": [
    "SUPER.shape"
   ]
  },
  {
   "cell_type": "code",
   "execution_count": 123,
   "metadata": {},
   "outputs": [
    {
     "data": {
      "text/plain": [
       "(28, 28)"
      ]
     },
     "execution_count": 123,
     "metadata": {},
     "output_type": "execute_result"
    }
   ],
   "source": [
    "F = SUPER.squeeze()\n",
    "F.shape"
   ]
  },
  {
   "cell_type": "code",
   "execution_count": null,
   "metadata": {},
   "outputs": [],
   "source": []
  },
  {
   "cell_type": "code",
   "execution_count": 124,
   "metadata": {},
   "outputs": [
    {
     "data": {
      "text/plain": [
       "(28, 28, 1)"
      ]
     },
     "execution_count": 124,
     "metadata": {},
     "output_type": "execute_result"
    }
   ],
   "source": [
    "K = np.expand_dims(F, axis=2)\n",
    "K.shape"
   ]
  },
  {
   "cell_type": "code",
   "execution_count": 125,
   "metadata": {},
   "outputs": [],
   "source": [
    "h_N, w_N, _ = K.shape"
   ]
  },
  {
   "cell_type": "code",
   "execution_count": 126,
   "metadata": {},
   "outputs": [],
   "source": [
    "factor = 5\n",
    "NEW_height = h_N * factor\n",
    "NEW_width =  w_N* factor"
   ]
  },
  {
   "cell_type": "code",
   "execution_count": 127,
   "metadata": {},
   "outputs": [
    {
     "data": {
      "text/plain": [
       "(140, 140)"
      ]
     },
     "execution_count": 127,
     "metadata": {},
     "output_type": "execute_result"
    }
   ],
   "source": [
    "NEW_height, NEW_width"
   ]
  },
  {
   "cell_type": "code",
   "execution_count": 128,
   "metadata": {},
   "outputs": [],
   "source": [
    "IMAGE1 = cv2.resize(K, (NEW_width, NEW_height), interpolation = cv2.INTER_LINEAR)"
   ]
  },
  {
   "cell_type": "code",
   "execution_count": 129,
   "metadata": {},
   "outputs": [
    {
     "data": {
      "text/plain": [
       "(140, 140)"
      ]
     },
     "execution_count": 129,
     "metadata": {},
     "output_type": "execute_result"
    }
   ],
   "source": []
  },
  {
   "cell_type": "code",
   "execution_count": null,
   "metadata": {},
   "outputs": [],
   "source": []
  },
  {
   "cell_type": "code",
   "execution_count": 169,
   "metadata": {},
   "outputs": [],
   "source": []
  }
 ],
 "metadata": {
  "kernelspec": {
   "display_name": "Python 3",
   "language": "python",
   "name": "python3"
  },
  "language_info": {
   "codemirror_mode": {
    "name": "ipython",
    "version": 3
   },
   "file_extension": ".py",
   "mimetype": "text/x-python",
   "name": "python",
   "nbconvert_exporter": "python",
   "pygments_lexer": "ipython3",
   "version": "3.7.4"
  }
 },
 "nbformat": 4,
 "nbformat_minor": 2
}
